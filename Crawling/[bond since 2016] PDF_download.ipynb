{
 "cells": [
  {
   "cell_type": "markdown",
   "metadata": {},
   "source": [
    "### pdf 링크 및 보고서 정보 크롤링"
   ]
  },
  {
   "cell_type": "code",
   "execution_count": 1,
   "metadata": {},
   "outputs": [],
   "source": [
    "import requests\n",
    "from bs4 import BeautifulSoup"
   ]
  },
  {
   "cell_type": "code",
   "execution_count": null,
   "metadata": {},
   "outputs": [],
   "source": [
    "# pdf파일 링크 크롤링\n",
    "BASE_URL = 'https://finance.naver.com/research/debenture_list.naver?&'\n",
    "\n",
    "link_list=[]\n",
    "\n",
    "for page in range(1, 73):\n",
    "    parameters = 'page=' + str(page)\n",
    "    URL = BASE_URL + parameters\n",
    "    \n",
    "    res = requests.get(URL)\n",
    "    soup = BeautifulSoup(res.text, 'html.parser')\n",
    "\n",
    "    url_results = soup.find_all(class_='file')\n",
    "   \n",
    "    \n",
    "    for result in url_results:\n",
    "        try:\n",
    "            a_tag = result.select('a')[0].attrs['href']\n",
    "            \n",
    "            link_list.append(a_tag)\n",
    "        except:\n",
    "            pass\n",
    "                    \n",
    "print(link_list)\n",
    "\n"
   ]
  },
  {
   "cell_type": "code",
   "execution_count": 3,
   "metadata": {},
   "outputs": [],
   "source": [
    "# 채권분석 보고서 날짜, 제목 정보 크롤링\n",
    "\n",
    "file_info = []\n",
    "\n",
    "for i in range(1, 73) :\n",
    "    URL = 'https://finance.naver.com/research/debenture_list.naver?&page='+str((i))\n",
    "    res = requests.get(URL)\n",
    "    soup = BeautifulSoup(res.text, 'html.parser')\n",
    "\n",
    "    information = soup.select('table.type_1')\n",
    "\n",
    "    for info in information:\n",
    "\n",
    "            for a in range(2, 47):\n",
    "                try:\n",
    "                    \n",
    "                    title = info.select('tr')[a].select('td')[0].text.strip()\n",
    "                    specialChars = '\\/:*?\"<>|'\n",
    "                    for specialChar in specialChars:  \n",
    "                        title = title.replace(specialChar, '')\n",
    "                    \n",
    "                    name = info.select('tr')[a].select('td')[1].text.strip()\n",
    "                    date = info.select('tr')[a].select('td')[3].text.strip()\n",
    "                        \n",
    "                    temp = [date, name, title]\n",
    "                    file_info.append(temp)\n",
    "        \n",
    "                except:\n",
    "                    if temp in file_info:\n",
    "                        pass\n"
   ]
  },
  {
   "cell_type": "code",
   "execution_count": null,
   "metadata": {},
   "outputs": [],
   "source": [
    "# pdf 파일이 존재하지 않는 보고서 정보의 인덱스 확인\n",
    "file_info.index(['22.07.20', '미래에셋증권', '미국 금리 역전 심화와 국내 장기금리 추가 하락 기대'])"
   ]
  },
  {
   "cell_type": "code",
   "execution_count": null,
   "metadata": {},
   "outputs": [],
   "source": [
    "# 보고서 정보와 pdf가 불일치함을 확인\n",
    "file_info[206], link_list[206]"
   ]
  },
  {
   "cell_type": "code",
   "execution_count": null,
   "metadata": {},
   "outputs": [],
   "source": [
    "# 해당 보고서정보 인덱스를 삭제\n",
    "file_info.pop(206)"
   ]
  },
  {
   "cell_type": "code",
   "execution_count": null,
   "metadata": {},
   "outputs": [],
   "source": [
    "# 보고서 정보와 pdf가 일치\n",
    "file_info[206], link_list[206]"
   ]
  },
  {
   "cell_type": "markdown",
   "metadata": {},
   "source": [
    "### csv 변환"
   ]
  },
  {
   "cell_type": "code",
   "execution_count": 8,
   "metadata": {},
   "outputs": [],
   "source": [
    "# 보고서정보 데이터 csv 변환\n",
    "import pandas as pd\n",
    "\n",
    "link_list_df= pd.DataFrame(file_info)\n",
    "save_link= link_list_df.to_csv('./채권[1-73]_file info.csv', index=False)"
   ]
  },
  {
   "cell_type": "code",
   "execution_count": 9,
   "metadata": {},
   "outputs": [],
   "source": [
    "# 링크 데이터 csv 변환\n",
    "import pandas as pd\n",
    "\n",
    "link_list_df= pd.DataFrame(link_list)\n",
    "save_link= link_list_df.to_csv('./채권[1-73]_pdf_link.csv', index=False)"
   ]
  },
  {
   "cell_type": "code",
   "execution_count": 10,
   "metadata": {},
   "outputs": [],
   "source": [
    "# 두 개a의 csv 병합\n",
    "import pandas as pd\n",
    "import os\n",
    "\n",
    "info_df= pd.read_csv('./채권[1-73]_file info.csv')\n",
    "link_df= pd.read_csv('./채권[1-73]_pdf_link.csv', sep='\\t')\n"
   ]
  },
  {
   "cell_type": "code",
   "execution_count": null,
   "metadata": {},
   "outputs": [],
   "source": [
    "info_df['1']"
   ]
  },
  {
   "cell_type": "code",
   "execution_count": null,
   "metadata": {},
   "outputs": [],
   "source": [
    "link_df['0']"
   ]
  },
  {
   "cell_type": "code",
   "execution_count": 13,
   "metadata": {},
   "outputs": [],
   "source": [
    "info_df['3']=link_df['0']"
   ]
  },
  {
   "cell_type": "code",
   "execution_count": null,
   "metadata": {},
   "outputs": [],
   "source": [
    "info_df"
   ]
  },
  {
   "cell_type": "code",
   "execution_count": 15,
   "metadata": {},
   "outputs": [],
   "source": [
    "info_df.to_csv('./채권[1-73]_데이터병합.csv', index=False)"
   ]
  },
  {
   "cell_type": "code",
   "execution_count": 16,
   "metadata": {},
   "outputs": [
    {
     "data": {
      "text/plain": [
       "'22.11.21'"
      ]
     },
     "execution_count": 16,
     "metadata": {},
     "output_type": "execute_result"
    }
   ],
   "source": [
    "info_df['0'][0]"
   ]
  },
  {
   "cell_type": "code",
   "execution_count": 17,
   "metadata": {},
   "outputs": [
    {
     "name": "stdout",
     "output_type": "stream",
     "text": [
      "1.3.5\n"
     ]
    }
   ],
   "source": [
    "print(pd.__version__)"
   ]
  },
  {
   "cell_type": "code",
   "execution_count": null,
   "metadata": {},
   "outputs": [],
   "source": [
    "check= pd.read_csv('./채권[1-73]_데이터병합.csv')\n",
    "check.loc[[0,1,2]]"
   ]
  },
  {
   "cell_type": "code",
   "execution_count": 19,
   "metadata": {},
   "outputs": [
    {
     "data": {
      "text/plain": [
       "0    채권 Daily (11.21)\n",
       "Name: 2, dtype: object"
      ]
     },
     "execution_count": 19,
     "metadata": {},
     "output_type": "execute_result"
    }
   ],
   "source": [
    "data_test= pd.read_csv('./채권[1-73]_데이터병합.csv')\n",
    "test= data_test.loc[[0]]\n",
    "test['2']"
   ]
  },
  {
   "cell_type": "code",
   "execution_count": 20,
   "metadata": {},
   "outputs": [],
   "source": [
    "# pdf 다운로드 코드\n",
    "\n",
    "from urllib.request import urlopen\n",
    "import pandas as pd\n",
    "import os\n",
    "\n",
    "def pdf_file_download(report_name:str):\n",
    "    report_data= pd.read_csv(report_name) #레포트 데이터 파일 불러오기\n",
    "    \n",
    "    for i in range(0, len(report_data)):\n",
    "        report_info= report_data.loc[i] #행으로 추출해 낸 것\n",
    "        \n",
    "        rpt_date= report_info['0']\n",
    "        stf= report_info['1'] #stock firm\n",
    "        rpt_nm= report_info['2'] #report name\n",
    "        rpt_lk= report_info['3'] #report link\n",
    "\n",
    "\n",
    "        download = urlopen(rpt_lk).read()\n",
    "\n",
    "        file = './data/'+ rpt_date + '_' + rpt_nm +'.pdf'\n",
    "        try: \n",
    "            with open(file, mode='wb') as f: \n",
    "                f.write(download)\n",
    "                #print(f' {file} Save Complete')\n",
    "        except:\n",
    "            if FileNotFoundError:\n",
    "                print(f' {file} is not found')\n",
    "            elif AttributeError:\n",
    "                pass\n",
    "        \n"
   ]
  },
  {
   "cell_type": "code",
   "execution_count": 22,
   "metadata": {},
   "outputs": [
    {
     "name": "stdout",
     "output_type": "stream",
     "text": [
      "None\n"
     ]
    }
   ],
   "source": [
    "print(pdf_file_download('./채권[1-73]_데이터병합.csv'))"
   ]
  },
  {
   "cell_type": "code",
   "execution_count": 23,
   "metadata": {},
   "outputs": [
    {
     "data": {
      "text/plain": [
       "2159"
      ]
     },
     "execution_count": 23,
     "metadata": {},
     "output_type": "execute_result"
    }
   ],
   "source": [
    "import os\n",
    "list_check= os.listdir('./data/')\n",
    "len(list_check)"
   ]
  },
  {
   "cell_type": "code",
   "execution_count": null,
   "metadata": {},
   "outputs": [],
   "source": []
  },
  {
   "cell_type": "code",
   "execution_count": null,
   "metadata": {},
   "outputs": [],
   "source": []
  }
 ],
 "metadata": {
  "kernelspec": {
   "display_name": "Python 3.7.13 ('myenv')",
   "language": "python",
   "name": "python3"
  },
  "language_info": {
   "codemirror_mode": {
    "name": "ipython",
    "version": 3
   },
   "file_extension": ".py",
   "mimetype": "text/x-python",
   "name": "python",
   "nbconvert_exporter": "python",
   "pygments_lexer": "ipython3",
   "version": "3.7.13"
  },
  "orig_nbformat": 4,
  "vscode": {
   "interpreter": {
    "hash": "314049975fdd5693d1c4570aa7b0c12e14b0cbd017522b233390f5f188778658"
   }
  }
 },
 "nbformat": 4,
 "nbformat_minor": 2
}
