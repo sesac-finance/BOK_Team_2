{
 "cells": [
  {
   "cell_type": "markdown",
   "metadata": {},
   "source": [
    "### 텍스트 추출 함수"
   ]
  },
  {
   "cell_type": "code",
   "execution_count": 3,
   "metadata": {},
   "outputs": [],
   "source": [
    "from urllib.request import urlopen\n",
    "from io import StringIO\n",
    "from pdfminer.pdfinterp import PDFResourceManager, PDFPageInterpreter\n",
    "from pdfminer.converter import TextConverter\n",
    "from pdfminer.layout import LAParams\n",
    "from pdfminer.pdfpage import PDFPage\n",
    "\n",
    "#import olefile\n",
    "\n",
    "def extract_text_from_pdf(file_path: str, codec='utf-8', password='', maxpages=0, caching=True):\n",
    "    rsrcmgr = PDFResourceManager()\n",
    "    retstr = StringIO()\n",
    "    laparams = LAParams()\n",
    "    device = TextConverter(rsrcmgr, retstr, codec=codec, laparams=laparams)\n",
    "    \n",
    "    fp = open(file_path, 'rb')\n",
    "    interpreter = PDFPageInterpreter(rsrcmgr, device)\n",
    "    pagenos = set()\n",
    "\n",
    "    for page in PDFPage.get_pages(fp, pagenos, maxpages=maxpages, password=password, caching=caching,\n",
    "                                  check_extractable=True):\n",
    "        interpreter.process_page(page)\n",
    "        text = retstr.getvalue()\n",
    "\n",
    "    fp.close()\n",
    "    device.close()\n",
    "    retstr.close()\n",
    "    return text"
   ]
  },
  {
   "cell_type": "markdown",
   "metadata": {},
   "source": [
    "### 데이터 파일 분리하기 (500 * 500 * 500 * 500 * 159개)"
   ]
  },
  {
   "cell_type": "code",
   "execution_count": 26,
   "metadata": {},
   "outputs": [],
   "source": [
    "import shutil\n",
    "import os\n",
    "\n",
    "# 폴더 안 파일 리스트 만들기\n",
    "path_dir= './data/'    # 데이터가 있는 폴더 경로\n",
    "\n",
    "\n",
    "# 이동할 폴더의 경로\n",
    "# 숫자 하나씩 변경\n",
    "move_path_dir= './data[1-73p](1)/' \n",
    "\n",
    "# 폴더 안의 파일 리스트를 가져온다.\n",
    "file_list= os.listdir(path_dir)\n",
    "div_files= file_list[0:500]\n",
    "#print(div_files)\n",
    "\n",
    "\n",
    "# 리스트에서 조건에 맞는 파일을 찾으면서 목표 폴더로 분류\n",
    "for item in div_files:\n",
    "    shutil.move(path_dir+item, move_path_dir+item)\n"
   ]
  },
  {
   "cell_type": "code",
   "execution_count": null,
   "metadata": {},
   "outputs": [],
   "source": []
  },
  {
   "cell_type": "markdown",
   "metadata": {},
   "source": [
    "### 폴더별로 pdf to text 변환"
   ]
  },
  {
   "cell_type": "code",
   "execution_count": null,
   "metadata": {},
   "outputs": [],
   "source": [
    "# data 폴터 내 파일 목록 불러오기\n",
    "\n",
    "import os \n",
    "import pandas as pd\n",
    "\n",
    "PATH = './data[1-73p](4)/'  #괄호 속 숫자 바꿔가면서!\n",
    "\n",
    "file_list = []\n",
    "\n",
    "for path, dir, files in os.walk(PATH):\n",
    "    #print(path, files)\n",
    "    for file in files:\n",
    "        current = os.path.join(path, file)\n",
    "        #print(current)\n",
    "        #print(current)\n",
    "        #print(file_list)\n",
    "\n",
    "        file_list.append(current)\n",
    "        #print(file_list)\n"
   ]
  },
  {
   "cell_type": "code",
   "execution_count": null,
   "metadata": {},
   "outputs": [],
   "source": [
    "# 리스트에서 각 파일명 추출\n",
    "\n",
    "for i in file_list:\n",
    "    print(i)"
   ]
  },
  {
   "cell_type": "code",
   "execution_count": null,
   "metadata": {},
   "outputs": [],
   "source": [
    "# 각 파일 텍스트 추출\n",
    "\n",
    "text = []\n",
    "\n",
    "  \n",
    "for file in file_list:\n",
    "    try:\n",
    "        content = extract_text_from_pdf(file).strip().split()\n",
    "        join_content = ' '.join(content)\n",
    "        text.append(join_content)\n",
    "        \n",
    "    except Exception as e:\n",
    "        print(file,e)\n",
    "        pass\n",
    "\n",
    "\n",
    "text\n"
   ]
  },
  {
   "cell_type": "markdown",
   "metadata": {},
   "source": [
    "### text를 csv 파일로 저장"
   ]
  },
  {
   "cell_type": "code",
   "execution_count": 30,
   "metadata": {},
   "outputs": [],
   "source": [
    "import pandas as pd\n",
    "text_from_pdf= pd.DataFrame(text)\n",
    "text_from_pdf.to_csv('채권[1-73]_totext(4).csv')  # 괄호 속 숫자 바꿔가면서!"
   ]
  },
  {
   "cell_type": "code",
   "execution_count": null,
   "metadata": {},
   "outputs": [],
   "source": []
  },
  {
   "cell_type": "markdown",
   "metadata": {},
   "source": [
    "### csv파일 마무리 작업  \n",
    "> 자동인덱스, 파일제목, 변환된 텍스트"
   ]
  },
  {
   "cell_type": "code",
   "execution_count": null,
   "metadata": {},
   "outputs": [],
   "source": [
    "import pandas as pd\n",
    "import os\n",
    "\n",
    "\n",
    "get_filename= os.listdir('./data[1-73p](2)/')\n",
    "get_filename_df= pd.DataFrame(get_filename)\n",
    "\n",
    "file_org= pd.read_csv('채권[1-73]_totext(2).csv')\n",
    "file_org['1']=file_org['0']\n",
    "file_org['0']=0\n",
    "file_org['0']=get_filename_df\n",
    "\n",
    "file_org.to_csv('./채권[1-73]_fin(2).csv', index=False)\n",
    "file_org"
   ]
  },
  {
   "cell_type": "code",
   "execution_count": null,
   "metadata": {},
   "outputs": [],
   "source": []
  }
 ],
 "metadata": {
  "kernelspec": {
   "display_name": "Python 3.7.13 ('myenv')",
   "language": "python",
   "name": "python3"
  },
  "language_info": {
   "codemirror_mode": {
    "name": "ipython",
    "version": 3
   },
   "file_extension": ".py",
   "mimetype": "text/x-python",
   "name": "python",
   "nbconvert_exporter": "python",
   "pygments_lexer": "ipython3",
   "version": "3.7.13"
  },
  "orig_nbformat": 4,
  "vscode": {
   "interpreter": {
    "hash": "314049975fdd5693d1c4570aa7b0c12e14b0cbd017522b233390f5f188778658"
   }
  }
 },
 "nbformat": 4,
 "nbformat_minor": 2
}
